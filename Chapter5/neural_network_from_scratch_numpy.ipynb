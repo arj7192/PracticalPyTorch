{
 "cells": [
  {
   "cell_type": "markdown",
   "metadata": {},
   "source": [
    "## Import NumPy"
   ]
  },
  {
   "cell_type": "code",
   "execution_count": 1,
   "metadata": {},
   "outputs": [],
   "source": [
    "import numpy as np"
   ]
  },
  {
   "cell_type": "markdown",
   "metadata": {},
   "source": [
    "## Creating a dummy dataset"
   ]
  },
  {
   "cell_type": "code",
   "execution_count": 2,
   "metadata": {},
   "outputs": [],
   "source": [
    "x_train = np.concatenate([np.random.rand(50, 64), np.random.rand(50, 64)+0.001])\n",
    "y_train = np.concatenate([np.zeros([50, 1]), np.ones([50, 1])])"
   ]
  },
  {
   "cell_type": "markdown",
   "metadata": {},
   "source": [
    "## Initialising functions for activation functions, loss function, and evaluation metrics"
   ]
  },
  {
   "cell_type": "code",
   "execution_count": 3,
   "metadata": {},
   "outputs": [],
   "source": [
    "zero_div = 0.0000000001\n",
    "\n",
    "def relu(x):\n",
    "    return np.maximum(0, x)\n",
    "\n",
    "def sigmoid(x):\n",
    "    return 1/(1+np.exp(-x))\n",
    "\n",
    "def relu_differential(x):\n",
    "    x[x<=0] = 0\n",
    "    x[x>0] = 1\n",
    "    return x\n",
    "\n",
    "def entropy_loss(y, y_pred):\n",
    "    n = len(y)\n",
    "    y_pred_rev = 1.0 - y_pred\n",
    "    y_rev = 1.0 - y\n",
    "    y_pred = np.maximum(y_pred, zero_div) # to prevent zero division\n",
    "    y_pred_rev = np.maximum(y_pred_rev, zero_div) # to prevent zero division\n",
    "    loss = -1/n * (np.sum(np.multiply(np.log(y_pred), y) + np.multiply((y_rev), np.log(y_pred_rev))))\n",
    "    return loss\n",
    "\n",
    "def accuracy(y, y_pred):\n",
    "    return int(sum(y == y_pred) / len(y) * 100)"
   ]
  },
  {
   "cell_type": "markdown",
   "metadata": {},
   "source": [
    "## Defining a Neural Network Model from scratch using NumPy"
   ]
  },
  {
   "cell_type": "code",
   "execution_count": 4,
   "metadata": {},
   "outputs": [],
   "source": [
    "class NumpyNN():\n",
    "    \n",
    "    def __init__(self, layers=[64,16,1], num_iter=10, lr=0.01):\n",
    "        self.params = {}\n",
    "        self.lr = lr\n",
    "        self.num_iter = num_iter\n",
    "        self.loss_per_epoch = []\n",
    "        np.random.seed(7) # set random seed for reproducibility\n",
    "        self.params['layer_1'] = np.random.randn(layers[0], layers[1]) \n",
    "        self.params['layer_1_b'] = np.random.randn(layers[1])\n",
    "        self.params['layer_2'] = np.random.randn(layers[1], layers[2])\n",
    "        self.params['layer_2_b'] = np.random.randn(layers[2])\n",
    "\n",
    "    def forward(self):\n",
    "\n",
    "        layer_1_y = self.x.dot(self.params['layer_1']) + self.params['layer_1_b']\n",
    "        layer_1_act_y = relu(layer_1_y)\n",
    "        layer_2_y = layer_1_act_y.dot(self.params['layer_2']) + self.params['layer_2_b']\n",
    "        y_pred = sigmoid(layer_2_y)\n",
    "        loss = entropy_loss(self.y, y_pred)\n",
    "\n",
    "        self.params['layer_1_y'] = layer_1_y\n",
    "        self.params['layer_2_y'] = layer_2_y\n",
    "        self.params['layer_1_act_y'] = layer_1_act_y\n",
    "\n",
    "        return y_pred, loss\n",
    "\n",
    "    def backprop(self, y_pred):\n",
    "\n",
    "        y_rev = 1 - self.y\n",
    "        y_pred_rev = 1 - y_pred\n",
    "\n",
    "        y_pred_grad = np.divide(y_rev, np.maximum(y_pred_rev, zero_div)) - np.divide(self.y, \n",
    "                                                                                    np.maximum(y_pred, zero_div))\n",
    "        layer_2_y_grad = y_pred_grad * (y_pred * y_pred_rev)\n",
    "\n",
    "        layer_1_act_y_grad = layer_2_y_grad.dot(self.params['layer_2'].T)\n",
    "        layer_2_grad = self.params['layer_1_act_y'].T.dot(layer_2_y_grad)\n",
    "        layer_2_b_grad = np.sum(layer_2_y_grad, axis=0, keepdims=True)\n",
    "\n",
    "        layer_1_y_grad = layer_1_act_y_grad * relu_differential(self.params['layer_1_y'])\n",
    "        layer_1_grad = self.x.T.dot(layer_1_y_grad)\n",
    "        layer_1_b_grad = np.sum(layer_1_y_grad, axis=0, keepdims=True)\n",
    "\n",
    "        self.params['layer_1'] = self.params['layer_1'] - self.lr * layer_1_grad\n",
    "        self.params['layer_2'] = self.params['layer_2'] - self.lr * layer_2_grad\n",
    "        self.params['layer_1_b'] = self.params['layer_1_b'] - self.lr * layer_1_b_grad\n",
    "        self.params['layer_2_b'] = self.params['layer_2_b'] - self.lr * layer_2_b_grad\n",
    "\n",
    "    def fit(self, x, y):\n",
    "        self.x = x\n",
    "        self.y = y\n",
    "\n",
    "        for i in range(self.num_iter):\n",
    "            y_pred, loss = self.forward()\n",
    "            self.backprop(y_pred)\n",
    "            self.loss_per_epoch.append(loss)\n",
    "            if i%(self.num_iter/10)==0:\n",
    "                print(f\"Loss at epoch {i} is : {loss}\")\n",
    "\n",
    "    def predict(self, x):\n",
    "        layer_1_y = x.dot(self.params['layer_1']) + self.params['layer_1_b']\n",
    "        layer_1_act_y = relu(layer_1_y)\n",
    "        layer_2_y = layer_1_act_y.dot(self.params['layer_2']) + self.params['layer_2_b']\n",
    "        y_pred = sigmoid(layer_2_y)\n",
    "        return np.round(y_pred) \n",
    "\n",
    "    def plot_loss(self):\n",
    "        plt.plot(self.loss_per_epoch)\n",
    "        plt.title(\"Training curve\")\n",
    "        plt.xlabel(\"iters\")\n",
    "        plt.ylabel(\"cross-entropy loss\")\n",
    "        plt.show()  "
   ]
  },
  {
   "cell_type": "markdown",
   "metadata": {},
   "source": [
    "## Training the Neural Network Model"
   ]
  },
  {
   "cell_type": "code",
   "execution_count": 8,
   "metadata": {},
   "outputs": [
    {
     "name": "stdout",
     "output_type": "stream",
     "text": [
      "Loss at epoch 0 is : 3.334893474288788\n",
      "Loss at epoch 100 is : 0.7373995925964704\n",
      "Loss at epoch 200 is : 0.5931338129388729\n",
      "Loss at epoch 300 is : 0.541321002806226\n",
      "Loss at epoch 400 is : 0.4907569297164152\n",
      "Loss at epoch 500 is : 0.44177746167525\n",
      "Loss at epoch 600 is : 0.39537489272683124\n",
      "Loss at epoch 700 is : 0.351629365704974\n",
      "Loss at epoch 800 is : 0.30949575284318537\n",
      "Loss at epoch 900 is : 0.2696576968583629\n"
     ]
    }
   ],
   "source": [
    "nn = NumpyNN(lr=0.001, num_iter=1000)\n",
    "nn.fit(x_train, y_train)"
   ]
  },
  {
   "cell_type": "markdown",
   "metadata": {},
   "source": [
    "## Examining the training curve"
   ]
  },
  {
   "cell_type": "code",
   "execution_count": 9,
   "metadata": {
    "scrolled": true
   },
   "outputs": [
    {
     "data": {
      "image/png": "[encoded data removed]",
      "text/plain": [
       "<Figure size 432x288 with 1 Axes>"
      ]
     },
     "metadata": {
      "needs_background": "light"
     },
     "output_type": "display_data"
    }
   ],
   "source": [
    "import matplotlib.pyplot as plt\n",
    "nn.plot_loss()"
   ]
  },
  {
   "cell_type": "markdown",
   "metadata": {},
   "source": [
    "## Evaluating the model performance"
   ]
  },
  {
   "cell_type": "code",
   "execution_count": 10,
   "metadata": {},
   "outputs": [
    {
     "name": "stdout",
     "output_type": "stream",
     "text": [
      "Accuracy on train set is 94%\n"
     ]
    }
   ],
   "source": [
    "train_pred = nn.predict(x_train)\n",
    "print(\"Accuracy on train set is {}%\".format(accuracy(y_train, train_pred)))"
   ]
  },
  {
   "cell_type": "code",
   "execution_count": null,
   "metadata": {},
   "outputs": [],
   "source": []
  }
 ],
 "metadata": {
  "kernelspec": {
   "display_name": "Python 3",
   "language": "python",
   "name": "python3"
  },
  "language_info": {
   "codemirror_mode": {
    "name": "ipython",
    "version": 3
   },
   "file_extension": ".py",
   "mimetype": "text/x-python",
   "name": "python",
   "nbconvert_exporter": "python",
   "pygments_lexer": "ipython3",
   "version": "3.7.6"
  }
 },
 "nbformat": 4,
 "nbformat_minor": 4
}
