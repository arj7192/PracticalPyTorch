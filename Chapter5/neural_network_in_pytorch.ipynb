{
 "cells": [
  {
   "cell_type": "markdown",
   "metadata": {},
   "source": [
    "## Import PyTorch"
   ]
  },
  {
   "cell_type": "code",
   "execution_count": 1,
   "metadata": {},
   "outputs": [],
   "source": [
    "import torch"
   ]
  },
  {
   "cell_type": "markdown",
   "metadata": {},
   "source": [
    "## Creating a dummy dataset"
   ]
  },
  {
   "cell_type": "code",
   "execution_count": 2,
   "metadata": {},
   "outputs": [],
   "source": [
    "import numpy as np\n",
    "x_train = np.concatenate([np.random.rand(50, 64), np.random.rand(50, 64)+0.0001], dtype=np.float32)\n",
    "y_train = np.concatenate([np.zeros([50, 1]), np.ones([50, 1])], dtype=np.float32)"
   ]
  },
  {
   "cell_type": "markdown",
   "metadata": {},
   "source": [
    "## Defining a Neural Network model using PyTorch"
   ]
  },
  {
   "cell_type": "code",
   "execution_count": 3,
   "metadata": {},
   "outputs": [],
   "source": [
    "class TorchNN(torch.nn.Module):\n",
    "    def __init__(self, layers=[64, 16, 1]):\n",
    "        super(TorchNN, self).__init__()\n",
    "        self.layer_1 = torch.nn.Linear(layers[0], layers[1])\n",
    "        self.layer_2 = torch.nn.Linear(layers[1], layers[2])\n",
    "    def forward(self, x):\n",
    "        hidden_1 = torch.relu(self.layer_1(x))\n",
    "        output = torch.sigmoid(self.layer_2(hidden_1))\n",
    "        return output"
   ]
  },
  {
   "cell_type": "markdown",
   "metadata": {},
   "source": [
    "## Defining model hyperparameters"
   ]
  },
  {
   "cell_type": "code",
   "execution_count": 9,
   "metadata": {},
   "outputs": [],
   "source": [
    "layers = [64, 16, 1] \n",
    "learningRate = 0.1\n",
    "num_iters = 1000\n",
    "losses = []"
   ]
  },
  {
   "cell_type": "markdown",
   "metadata": {},
   "source": [
    "## Instantiating the model, optimiser, and loss function"
   ]
  },
  {
   "cell_type": "code",
   "execution_count": 10,
   "metadata": {},
   "outputs": [],
   "source": [
    "nn = TorchNN(layers)\n",
    "criterion = torch.nn.BCELoss() \n",
    "optimizer = torch.optim.SGD(nn.parameters(), lr=learningRate)"
   ]
  },
  {
   "cell_type": "markdown",
   "metadata": {},
   "source": [
    "## Train the model"
   ]
  },
  {
   "cell_type": "code",
   "execution_count": 11,
   "metadata": {},
   "outputs": [
    {
     "name": "stdout",
     "output_type": "stream",
     "text": [
      "Loss at epoch 0 is : 0.7084357738494873\n",
      "Loss at epoch 100 is : 0.6534767746925354\n",
      "Loss at epoch 200 is : 0.5394963622093201\n",
      "Loss at epoch 300 is : 0.37875306606292725\n",
      "Loss at epoch 400 is : 0.26459288597106934\n",
      "Loss at epoch 500 is : 0.18939071893692017\n",
      "Loss at epoch 600 is : 0.13284626603126526\n",
      "Loss at epoch 700 is : 0.09321299195289612\n",
      "Loss at epoch 800 is : 0.06949136406183243\n",
      "Loss at epoch 900 is : 0.05385497584939003\n"
     ]
    }
   ],
   "source": [
    "inputs = torch.from_numpy(x_train)\n",
    "labels = torch.from_numpy(y_train)\n",
    "for i in range(num_iters):\n",
    "    optimizer.zero_grad()\n",
    "\n",
    "    # forward pass\n",
    "    outputs = nn(inputs)\n",
    "\n",
    "    # get loss for the predicted output\n",
    "    loss = criterion(outputs, labels)\n",
    "    losses.append(float(loss))\n",
    "\n",
    "    # get gradients w.r.t to parameters\n",
    "    loss.backward()\n",
    "\n",
    "    # update parameters\n",
    "    optimizer.step()\n",
    "    \n",
    "    if i%(num_iters/10)==0:\n",
    "        print(f\"Loss at epoch {i} is : {loss}\")"
   ]
  },
  {
   "cell_type": "markdown",
   "metadata": {},
   "source": [
    "## Examine the training curve"
   ]
  },
  {
   "cell_type": "code",
   "execution_count": 12,
   "metadata": {
    "scrolled": true
   },
   "outputs": [
    {
     "data": {
      "image/png": "[encoded data removed]",
      "text/plain": [
       "<Figure size 432x288 with 1 Axes>"
      ]
     },
     "metadata": {
      "needs_background": "light"
     },
     "output_type": "display_data"
    }
   ],
   "source": [
    "import matplotlib.pyplot as plt\n",
    "plt.plot(losses);"
   ]
  },
  {
   "cell_type": "markdown",
   "metadata": {},
   "source": [
    "## Evaluate model performance"
   ]
  },
  {
   "cell_type": "code",
   "execution_count": 13,
   "metadata": {},
   "outputs": [
    {
     "name": "stdout",
     "output_type": "stream",
     "text": [
      "Accuracy on train set is 100.0%\n"
     ]
    }
   ],
   "source": [
    "with torch.no_grad(): \n",
    "    train_pred = torch.round(nn(torch.from_numpy(x_train)))\n",
    "print(\"Accuracy on train set is {}%\".format(100*sum(train_pred==labels)[0]/len(labels)))"
   ]
  },
  {
   "cell_type": "code",
   "execution_count": null,
   "metadata": {},
   "outputs": [],
   "source": []
  }
 ],
 "metadata": {
  "kernelspec": {
   "display_name": "Python 3",
   "language": "python",
   "name": "python3"
  },
  "language_info": {
   "codemirror_mode": {
    "name": "ipython",
    "version": 3
   },
   "file_extension": ".py",
   "mimetype": "text/x-python",
   "name": "python",
   "nbconvert_exporter": "python",
   "pygments_lexer": "ipython3",
   "version": "3.7.6"
  }
 },
 "nbformat": 4,
 "nbformat_minor": 4
}
